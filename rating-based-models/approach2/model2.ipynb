{
  "nbformat": 4,
  "nbformat_minor": 0,
  "metadata": {
    "colab": {
      "name": "model2.ipynb",
      "provenance": [],
      "collapsed_sections": []
    },
    "kernelspec": {
      "name": "python3",
      "display_name": "Python 3"
    },
    "accelerator": "GPU"
  },
  "cells": [
    {
      "cell_type": "markdown",
      "metadata": {
        "id": "QyKTgQAT6Sfw",
        "colab_type": "text"
      },
      "source": [
        "Install dependencies"
      ]
    },
    {
      "cell_type": "code",
      "metadata": {
        "id": "zVKV4EBw6TN7",
        "colab_type": "code",
        "colab": {}
      },
      "source": [
        "!pip install -r ../../requirements.txt"
      ],
      "execution_count": 0,
      "outputs": []
    },
    {
      "cell_type": "markdown",
      "metadata": {
        "id": "Sbag5I1XKedJ",
        "colab_type": "text"
      },
      "source": [
        "Read data."
      ]
    },
    {
      "cell_type": "code",
      "metadata": {
        "id": "Fw-l-krrLJ0b",
        "colab_type": "code",
        "colab": {}
      },
      "source": [
        "import pandas as pd\n",
        "import numpy as np\n",
        "import seaborn as sns\n",
        "import matplotlib.pyplot as plt\n",
        "\n",
        "data_folder = '../../datasets/rating-based-dataset/'\n",
        "\n",
        "scores_data = pd.read_csv(data_folder + \"data/ae_only_unambiguous_1000.csv\", low_memory=False)\n",
        "\n",
        "_images = scores_data['website'].unique()\n",
        "_scores = scores_data.groupby('website')['mean_response'].apply(list)\n",
        "\n",
        "del scores_data"
      ],
      "execution_count": 0,
      "outputs": []
    },
    {
      "cell_type": "markdown",
      "metadata": {
        "id": "gb_mWVp8LH0B",
        "colab_type": "text"
      },
      "source": [
        "Get images path."
      ]
    },
    {
      "cell_type": "code",
      "metadata": {
        "id": "u3XWHxswQA4-",
        "colab_type": "code",
        "colab": {}
      },
      "source": [
        "all_images = []\n",
        "scores = []\n",
        "images_path = data_folder + 'preprocess/resized'\n",
        "\n",
        "for image in _images:\n",
        "\n",
        "  # english websites\n",
        "  if 'english' in image:\n",
        "    all_images.append(images_path + '/english_resized/' + image[8:] + '.png')\n",
        "    scores.append(_scores[image])\n",
        "\n",
        "  # foreign websites\n",
        "  if 'foreign' in image:\n",
        "    all_images.append(images_path + '/foreign_resized/' + image[8:] + '.png')  \n",
        "    scores.append(_scores[image])\n",
        "\n",
        "print('Total number of images: %d' % len(all_images))"
      ],
      "execution_count": 0,
      "outputs": []
    },
    {
      "cell_type": "markdown",
      "metadata": {
        "id": "K_e6UsYcL8vC",
        "colab_type": "text"
      },
      "source": [
        "Get the path of the images in test set and the ground truth user aesthetics ratings for each website. "
      ]
    },
    {
      "cell_type": "code",
      "metadata": {
        "id": "OyuWYt-nIvAQ",
        "colab_type": "code",
        "colab": {}
      },
      "source": [
        "import csv\n",
        "\n",
        "test_data_path = data_folder + 'preprocess/test_list.csv'\n",
        "\n",
        "def get_scores(scores_path):\n",
        "\n",
        "    images = []\n",
        "    scores = []\n",
        "\n",
        "    with open(scores_path) as csv_file:\n",
        "        csv_reader = csv.reader(csv_file, delimiter=',')\n",
        "        line_count = 0\n",
        "\n",
        "        for row in csv_reader:\n",
        "            if line_count == 0:\n",
        "\n",
        "                line_count += 1\n",
        "            else:\n",
        "\n",
        "                scores.append(float(row[1]))\n",
        "                line_count += 1\n",
        "                image_name = row[0]\n",
        "\n",
        "                images.append(images_path + image_name)\n",
        "\n",
        "    return (images, scores)\n",
        "\n",
        "test_images_names, gt_scores = get_scores(test_data_path)"
      ],
      "execution_count": 0,
      "outputs": []
    },
    {
      "cell_type": "markdown",
      "metadata": {
        "id": "rJWRPcNfM3QQ",
        "colab_type": "text"
      },
      "source": [
        "Form training and test data \n",
        "* {train, test}_images: contains the path of each image\n",
        "* {train, test}_scores: contains the user ratings of each image"
      ]
    },
    {
      "cell_type": "code",
      "metadata": {
        "id": "aNByZd3ySb2W",
        "colab_type": "code",
        "colab": {}
      },
      "source": [
        "train_images =[]\n",
        "train_scores =[]\n",
        "\n",
        "test_images = test_images_names\n",
        "test_scores = [[]] * len(test_images)\n",
        "\n",
        "for i in range(0, len(all_images)):\n",
        "  if all_images[i] in test_images_names:\n",
        "\n",
        "    pos = test_images_names.index(all_images[i])\n",
        "\n",
        "    test_scores[pos] = scores[i]\n",
        "  else:\n",
        "    train_images.append(all_images[i])\n",
        "    train_scores.append(scores[i])"
      ],
      "execution_count": 0,
      "outputs": []
    },
    {
      "cell_type": "markdown",
      "metadata": {
        "id": "Cyw633FEN4tS",
        "colab_type": "text"
      },
      "source": [
        "Shuffle the training set"
      ]
    },
    {
      "cell_type": "code",
      "metadata": {
        "id": "PCe8KaAQTOvz",
        "colab_type": "code",
        "colab": {}
      },
      "source": [
        "import random\n",
        "\n",
        "# np.random.seed(2000)\n",
        "    \n",
        "temp = list(zip(train_images, train_scores))\n",
        "random.shuffle(temp)\n",
        "\n",
        "train_images, train_scores = zip(*temp)"
      ],
      "execution_count": 0,
      "outputs": []
    },
    {
      "cell_type": "markdown",
      "metadata": {
        "id": "_403SqrZODcP",
        "colab_type": "text"
      },
      "source": [
        "Display the first 3 images to make sure everything is ok. "
      ]
    },
    {
      "cell_type": "code",
      "metadata": {
        "id": "Jpagl0HsTUEF",
        "colab_type": "code",
        "colab": {}
      },
      "source": [
        "import matplotlib.pyplot as plt\n",
        "%matplotlib inline\n",
        "\n",
        "import matplotlib.image as mping\n",
        "for ima in train_images[0:3]:\n",
        "  img = mping.imread(ima)\n",
        "  imgplot = plt.imshow(img)\n",
        "  plt.show()"
      ],
      "execution_count": 0,
      "outputs": []
    },
    {
      "cell_type": "markdown",
      "metadata": {
        "id": "e_7mRFO6OG7i",
        "colab_type": "text"
      },
      "source": [
        "Read the images as numpy arrays"
      ]
    },
    {
      "cell_type": "code",
      "metadata": {
        "id": "dX0IUirtTaoL",
        "colab_type": "code",
        "colab": {}
      },
      "source": [
        "import cv2\n",
        "\n",
        "width = 256 \n",
        "height = 192 \n",
        "channels = 3\n",
        "\n",
        "def read_and_process_images(list_of_images):\n",
        "  X = []\n",
        "  \n",
        "  for image in list_of_images:\n",
        "\n",
        "    # images are already resized\n",
        "    # X.append(cv2.resize(cv2.imread(image, cv2.IMREAD_COLOR), (width, height), \n",
        "    #                     interpolation=cv2.INTER_AREA))\n",
        "    X.append(cv2.imread(image, cv2.IMREAD_COLOR))\n",
        "\n",
        "  \n",
        "  return X\n",
        "\n",
        "\n",
        "X_train = np.array(read_and_process_images(train_images))\n",
        "X_val = np.array(read_and_process_images(test_images))"
      ],
      "execution_count": 0,
      "outputs": []
    },
    {
      "cell_type": "markdown",
      "metadata": {
        "id": "e6ZnqNCQOYyX",
        "colab_type": "text"
      },
      "source": [
        "Display the first 3 images to make sure everything is ok"
      ]
    },
    {
      "cell_type": "code",
      "metadata": {
        "id": "H4wDCyQ1Tk_B",
        "colab_type": "code",
        "colab": {}
      },
      "source": [
        "plt.figure(figsize=(25,15))\n",
        "columns = 3\n",
        "\n",
        "for i in range(columns):\n",
        "  plt.subplot(columns, 1, i+1)\n",
        "  plt.imshow(X_train[i])"
      ],
      "execution_count": 0,
      "outputs": []
    },
    {
      "cell_type": "markdown",
      "metadata": {
        "id": "hMPV71kvPv5V",
        "colab_type": "text"
      },
      "source": [
        "The ground truth distribution of human ratings of a given website can be expressed as an empirical probability mass function **p** = [p<sub>s<sub>1</sub></sub>, p<sub>s<sub>2</sub></sub>, ..., p<sub>s<sub>N</sub></sub>] with s<sub>1</sub> &#8804; s<sub>i</sub> &#8804; s<sub>N</sub>, where s<sub>i</sub> denotes the i-th score bucket and N denotes the total number of buckets. In this case, s<sub>1</sub>=1 and s<sub>N</sub>=9.\n"
      ]
    },
    {
      "cell_type": "code",
      "metadata": {
        "id": "iQcRQ0uGUdvp",
        "colab_type": "code",
        "colab": {}
      },
      "source": [
        "bins = [0.5, 1.5, 2.5, 3.5, 4.5, 5.5, 6.5, 7.5, 8.5, 9.5]\n",
        "score_values = np.array([1.0, 2.0, 3.0, 4.0, 5.0, 6.0, 7.0, 8.0, 9.0])\n",
        "\n",
        "y_train = []\n",
        "\n",
        "for i in range(0, len(train_scores)):\n",
        "  y_temp = np.histogram(train_scores[i], bins=bins)[0]\n",
        "  y_train.append(y_temp / len(train_scores[i]))\n",
        "  del y_temp\n",
        "\n",
        "y_train = np.array(y_train)\n",
        "\n",
        "y_val = []\n",
        "\n",
        "for i in range(0, len(test_scores)):\n",
        "  y_temp = np.histogram(test_scores[i], bins=bins)[0]\n",
        "  y_val.append(y_temp / len(test_scores[i]))\n",
        "  del y_temp\n",
        "\n",
        "y_val = np.array(y_val)\n"
      ],
      "execution_count": 0,
      "outputs": []
    },
    {
      "cell_type": "markdown",
      "metadata": {
        "id": "hI3pIgLcPR9V",
        "colab_type": "text"
      },
      "source": [
        "Display shapes to check everything is ok"
      ]
    },
    {
      "cell_type": "code",
      "metadata": {
        "id": "yzQsQb8jXR0O",
        "colab_type": "code",
        "colab": {}
      },
      "source": [
        "ntrain = len(X_train)\n",
        "nval = len(X_val)\n",
        "\n",
        "print('Shape of X_train is: ', X_train.shape)\n",
        "print('Shape of X_val is: ', X_val.shape)\n",
        "print('Shape of y_train is: ', y_train.shape)\n",
        "print('Shape of y_val is: ', y_val.shape)"
      ],
      "execution_count": 0,
      "outputs": []
    },
    {
      "cell_type": "markdown",
      "metadata": {
        "id": "uZOkPsEkUpEO",
        "colab_type": "text"
      },
      "source": [
        "Construct the CNN. The task is to predict the user aesthetics score distribution for a website. We will use [NIMA-MobileNet](https://arxiv.org/pdf/1709.05424.pdf) as our base network. This network is pretrained on AVA dataset (containing 255k image with aesthetic quality ratings) for the neural image assessment task."
      ]
    },
    {
      "cell_type": "code",
      "metadata": {
        "id": "K6Q1cwyBXTf-",
        "colab_type": "code",
        "colab": {}
      },
      "source": [
        "from keras.applications.mobilenet import MobileNet\n",
        "from keras import optimizers\n",
        "from keras import regularizers\n",
        "from keras.layers import GlobalMaxPooling2D, Dense, Dropout, Flatten\n",
        "from keras.models import Model\n",
        "\n",
        "input_shape = X_train[0].shape\n",
        "\n",
        "base_model = MobileNet(include_top=False, weights='imagenet', pooling='avg', input_shape=input_shape)\n",
        "\n",
        "x = base_model.output\n",
        "x = Dropout(0.6)(x) \n",
        "outputs = Dense(10, activation='softmax')(x)\n",
        "\n",
        "model = Model(inputs=base_model.input, outputs=outputs)\n",
        "model.load_weights('../../pretrained-models/mobilenet_weights.h5')\n",
        "\n",
        "model.layers.pop()\n",
        "outputs = Dense(9, activation='softmax')(model.layers[-1].output)\n",
        "model = Model(inputs=model.input, outputs=outputs)\n",
        "\n",
        "model.summary()"
      ],
      "execution_count": 0,
      "outputs": []
    },
    {
      "cell_type": "markdown",
      "metadata": {
        "id": "CEgCsP2BQQqC",
        "colab_type": "text"
      },
      "source": [
        "Define the loss function (Earth Mover's Distance)"
      ]
    },
    {
      "cell_type": "code",
      "metadata": {
        "id": "8dNk-tMUYqIO",
        "colab_type": "code",
        "colab": {}
      },
      "source": [
        "from keras import backend as K\n",
        "\n",
        "def earth_mover_loss(y_true, y_pred):\n",
        "    cdf_ytrue = K.cumsum(y_true, axis=-1)\n",
        "    cdf_ypred = K.cumsum(y_pred, axis=-1)\n",
        "    samplewise_emd = K.sqrt(K.mean(K.square(K.abs(cdf_ytrue - cdf_ypred)), axis=-1))\n",
        "    return K.mean(samplewise_emd)"
      ],
      "execution_count": 0,
      "outputs": []
    },
    {
      "cell_type": "code",
      "metadata": {
        "id": "4CD7wYIIYo6N",
        "colab_type": "code",
        "colab": {}
      },
      "source": [
        "from keras.preprocessing.image import ImageDataGenerator\n",
        "\n",
        "batch_size = 32\n",
        "\n",
        "train_datagen = ImageDataGenerator(rescale = 1./255)\n",
        "val_datagen = ImageDataGenerator(rescale = 1./255)\n",
        "\n",
        "train_generator = train_datagen.flow(X_train, y_train, batch_size=batch_size)\n",
        "val_generator = val_datagen.flow(X_val, y_val, batch_size=batch_size)"
      ],
      "execution_count": 0,
      "outputs": []
    },
    {
      "cell_type": "markdown",
      "metadata": {
        "id": "DKhZY81oRI0H",
        "colab_type": "text"
      },
      "source": [
        "Compile the model."
      ]
    },
    {
      "cell_type": "code",
      "metadata": {
        "id": "MDQpMQmhYvvt",
        "colab_type": "code",
        "colab": {}
      },
      "source": [
        "epochs = 95\n",
        "decay = 1e-4 \n",
        "base_lr = 0.005\n",
        "\n",
        "sgd = optimizers.SGD(lr=base_lr, momentum=0.9, decay=decay, nesterov=True)\n",
        "model.compile(loss=earth_mover_loss, optimizer=sgd, metrics=[earth_mover_loss])"
      ],
      "execution_count": 0,
      "outputs": []
    },
    {
      "cell_type": "markdown",
      "metadata": {
        "id": "eYlMYn33RjLb",
        "colab_type": "text"
      },
      "source": [
        "Train the model."
      ]
    },
    {
      "cell_type": "code",
      "metadata": {
        "id": "j_YzT0JCY90w",
        "colab_type": "code",
        "colab": {}
      },
      "source": [
        "history = model.fit_generator(train_generator, \n",
        "                             steps_per_epoch = ntrain // batch_size,\n",
        "                             epochs = epochs, \n",
        "                             validation_data=val_generator,\n",
        "                             validation_steps=nval // batch_size)"
      ],
      "execution_count": 0,
      "outputs": []
    },
    {
      "cell_type": "markdown",
      "metadata": {
        "id": "l1cjrIIFRgRu",
        "colab_type": "text"
      },
      "source": [
        "Display the learning curves."
      ]
    },
    {
      "cell_type": "code",
      "metadata": {
        "id": "WLPuiYC3ZIRo",
        "colab_type": "code",
        "colab": {}
      },
      "source": [
        "\n",
        "emd = history.history[\"earth_mover_loss\"]\n",
        "val_emd = history.history[\"val_earth_mover_loss\"]\n",
        "\n",
        "epochs_x = range(1, len(emd) + 1)\n",
        "\n",
        "plt.plot(epochs_x, emd, 'b', label='Training EMD')\n",
        "plt.plot(epochs_x, val_emd, 'r', label='Validation EMD')\n",
        "\n",
        "plt.legend()"
      ],
      "execution_count": 0,
      "outputs": []
    },
    {
      "cell_type": "markdown",
      "metadata": {
        "id": "lViPMAw6RlWj",
        "colab_type": "text"
      },
      "source": [
        "Define a function that calculates Pearson correlation."
      ]
    },
    {
      "cell_type": "code",
      "metadata": {
        "id": "aGVyHN0WcWVG",
        "colab_type": "code",
        "colab": {}
      },
      "source": [
        "from scipy import stats\n",
        "\n",
        "def pearsonr_ci(x,y,alpha=0.05):\n",
        "    ''' calculate Pearson correlation along with the confidence interval using scipy and numpy\n",
        "    Parameters\n",
        "    ----------\n",
        "    x, y : iterable object such as a list or np.array\n",
        "      Input for correlation calculation\n",
        "    alpha : float\n",
        "      Significance level. 0.05 by default\n",
        "    Returns\n",
        "    -------\n",
        "    r : float\n",
        "      Pearson's correlation coefficient\n",
        "    pval : float\n",
        "      The corresponding p value\n",
        "    lo, hi : float\n",
        "      The lower and upper bound of confidence intervals\n",
        "    '''\n",
        "    N = len(x)\n",
        "    r, p = stats.pearsonr(x,y)\n",
        "    r_z = np.arctanh(r)\n",
        "    se = 1/np.sqrt(N-3)\n",
        "    z = stats.norm.ppf(1-alpha/2)\n",
        "    lo_z, hi_z = r_z-z*se, r_z+z*se\n",
        "    lo, hi = np.tanh((lo_z, hi_z))\n",
        "    return r, p, lo, hi"
      ],
      "execution_count": 0,
      "outputs": []
    },
    {
      "cell_type": "markdown",
      "metadata": {
        "id": "fv4ksCj26_D0",
        "colab_type": "text"
      },
      "source": [
        "Predict aesthetics score of the webpages in the test set. The mean value of the predicted distribution is used as the final aesthetics score."
      ]
    },
    {
      "cell_type": "code",
      "metadata": {
        "id": "ANebT-tBcfOn",
        "colab_type": "code",
        "colab": {}
      },
      "source": [
        "predictions = []\n",
        "\n",
        "X_val = X_val / 255.0\n",
        "\n",
        "for img in X_val:\n",
        "  img = img.reshape(1, 192, 256, 3)\n",
        "  pred = model.predict(img)\n",
        "\n",
        "  predictions.append(float(np.sum(pred[0] * score_values)))\n",
        "\n",
        "gt_scores = np.array(gt_scores)\n",
        "predictions = np.array(predictions)"
      ],
      "execution_count": 0,
      "outputs": []
    },
    {
      "cell_type": "markdown",
      "metadata": {
        "id": "yeM28l7kZ4Ti",
        "colab_type": "text"
      },
      "source": [
        "Display some websites of the test set and the predicted aesthetics score."
      ]
    },
    {
      "cell_type": "code",
      "metadata": {
        "id": "NJJW6_BlGO5_",
        "colab_type": "code",
        "colab": {}
      },
      "source": [
        "image_ids = [87, 45, 49, 94, 14, 83] # test image IDs sorted in descending order according to the website's aesthetics level\n",
        "\n",
        "fig = plt.figure(figsize=(12, 16))\n",
        "i = 1\n",
        "for id in image_ids:\n",
        "  if 'english' in test_images[id]:\n",
        "    path = images_path + '/english_resized/' + test_images[id].rsplit('/', 1)[1]\n",
        "  else:\n",
        "    path = images_path + '/foreign_resized/' + test_images[id].rsplit('/', 1)[1]\n",
        " \n",
        "  plt.subplot(len(image_ids)/2, 2, i)\n",
        "  img = mping.imread(path)\n",
        "  plt.title('User average rating: ' + str(np.round(gt_scores[id],2)) + '\\nPredicted rating: ' + str(np.round(predictions[id],2)) + '\\n(' + chr(97+i-1) + ')', y=-0.25)\n",
        "  plt.axis('off')\n",
        "  plt.imshow(img)\n",
        "    \n",
        "  i += 1\n",
        "\n",
        "plt.show()"
      ],
      "execution_count": 0,
      "outputs": []
    },
    {
      "cell_type": "markdown",
      "metadata": {
        "id": "ZLAvK-W6R_Ye",
        "colab_type": "text"
      },
      "source": [
        "Create a scatterplot to check the relationship between ground truth and predicted scores."
      ]
    },
    {
      "cell_type": "code",
      "metadata": {
        "id": "MT2GU-J5c5a8",
        "colab_type": "code",
        "colab": {}
      },
      "source": [
        "from numpy.polynomial.polynomial import polyfit\n",
        "b, m = polyfit(gt_scores, predictions, 1)\n",
        "\n",
        "fig = plt.figure()\n",
        "plt.scatter(gt_scores, predictions, c='c')\n",
        "plt.plot(gt_scores, b + m * gt_scores, '-', c='b')\n",
        "plt.xlabel('User ratings')\n",
        "plt.ylabel('Predicted ratings')\n",
        "\n",
        "plt.show()"
      ],
      "execution_count": 0,
      "outputs": []
    },
    {
      "cell_type": "markdown",
      "metadata": {
        "id": "b_copvG3R2oE",
        "colab_type": "text"
      },
      "source": [
        "Calculate the Pearson correlation and the RMSE between ground truth and predicted scores."
      ]
    },
    {
      "cell_type": "code",
      "metadata": {
        "id": "nJJ2uK50c6No",
        "colab_type": "code",
        "colab": {}
      },
      "source": [
        "from sklearn.metrics import mean_squared_error\n",
        "from math import sqrt\n",
        "\n",
        "\n",
        "corr, p, lo, hi = pearsonr_ci(gt_scores, predictions)\n",
        "print('Pearsons correlation: r=%.2f, p=%.2e, CI=[%.2f, %.2f]' % (corr, p, lo, hi))\n",
        "rmse_test = sqrt(mean_squared_error(gt_scores, predictions))\n",
        "print('RMSE: %.3f' % rmse_test)"
      ],
      "execution_count": 0,
      "outputs": []
    },
    {
      "cell_type": "markdown",
      "metadata": {
        "id": "iTcz-4TaSF7g",
        "colab_type": "text"
      },
      "source": [
        "Plot the distribution of ground truth scores and the distribution of predictions."
      ]
    },
    {
      "cell_type": "code",
      "metadata": {
        "id": "H2wRKCK7klRo",
        "colab_type": "code",
        "colab": {}
      },
      "source": [
        "import seaborn as sns\n",
        "\n",
        "fig = plt.figure()\n",
        "sns.set(color_codes=True)\n",
        "\n",
        "bins = np.linspace(1, 9, num=15)\n",
        "\n",
        "sns.distplot(gt_scores, bins=bins, label='User ratings')\n",
        "\n",
        "sns.distplot(predictions, bins=bins, label='Predicted ratings')\n",
        "\n",
        "plt.legend()\n",
        "\n",
        "\n",
        "plt.show()"
      ],
      "execution_count": 0,
      "outputs": []
    },
    {
      "cell_type": "code",
      "metadata": {
        "id": "d6p_sVxShCab",
        "colab_type": "code",
        "colab": {
          "base_uri": "https://localhost:8080/",
          "height": 1000
        },
        "outputId": "d7923493-adaa-459c-9773-92905410f7cf"
      },
      "source": [
        "pip freeze"
      ],
      "execution_count": 28,
      "outputs": [
        {
          "output_type": "stream",
          "text": [
            "absl-py==0.9.0\n",
            "alabaster==0.7.12\n",
            "albumentations==0.1.12\n",
            "altair==4.1.0\n",
            "asgiref==3.2.7\n",
            "astor==0.8.1\n",
            "astropy==4.0.1.post1\n",
            "astunparse==1.6.3\n",
            "atari-py==0.2.6\n",
            "atomicwrites==1.4.0\n",
            "attrs==19.3.0\n",
            "audioread==2.1.8\n",
            "autograd==1.3\n",
            "Babel==2.8.0\n",
            "backcall==0.1.0\n",
            "beautifulsoup4==4.6.3\n",
            "bleach==3.1.5\n",
            "blis==0.4.1\n",
            "bokeh==1.4.0\n",
            "boto==2.49.0\n",
            "boto3==1.13.3\n",
            "botocore==1.16.3\n",
            "Bottleneck==1.3.2\n",
            "branca==0.4.0\n",
            "bs4==0.0.1\n",
            "CacheControl==0.12.6\n",
            "cachetools==3.1.1\n",
            "catalogue==1.0.0\n",
            "certifi==2020.4.5.1\n",
            "cffi==1.14.0\n",
            "chainer==6.5.0\n",
            "chardet==3.0.4\n",
            "click==7.1.2\n",
            "cloudpickle==1.3.0\n",
            "cmake==3.12.0\n",
            "cmdstanpy==0.4.0\n",
            "colorlover==0.3.0\n",
            "community==1.0.0b1\n",
            "contextlib2==0.5.5\n",
            "convertdate==2.2.0\n",
            "coverage==3.7.1\n",
            "coveralls==0.5\n",
            "crcmod==1.7\n",
            "cufflinks==0.17.3\n",
            "cupy-cuda101==6.5.0\n",
            "cvxopt==1.2.5\n",
            "cvxpy==1.0.31\n",
            "cycler==0.10.0\n",
            "cymem==2.0.3\n",
            "Cython==0.29.17\n",
            "daft==0.0.4\n",
            "dask==2.12.0\n",
            "dataclasses==0.7\n",
            "datascience==0.10.6\n",
            "decorator==4.4.2\n",
            "defusedxml==0.6.0\n",
            "descartes==1.1.0\n",
            "dill==0.3.1.1\n",
            "distributed==1.25.3\n",
            "Django==3.0.6\n",
            "dlib==19.18.0\n",
            "docopt==0.6.2\n",
            "docutils==0.15.2\n",
            "dopamine-rl==1.0.5\n",
            "earthengine-api==0.1.221\n",
            "easydict==1.9\n",
            "ecos==2.0.7.post1\n",
            "editdistance==0.5.3\n",
            "en-core-web-sm==2.2.5\n",
            "entrypoints==0.3\n",
            "ephem==3.7.7.1\n",
            "et-xmlfile==1.0.1\n",
            "fa2==0.3.5\n",
            "fancyimpute==0.4.3\n",
            "fastai==1.0.61\n",
            "fastdtw==0.3.4\n",
            "fastprogress==0.2.3\n",
            "fastrlock==0.4\n",
            "fbprophet==0.6\n",
            "feather-format==0.4.1\n",
            "featuretools==0.4.1\n",
            "filelock==3.0.12\n",
            "firebase-admin==4.1.0\n",
            "fix-yahoo-finance==0.0.22\n",
            "Flask==1.1.2\n",
            "folium==0.8.3\n",
            "fsspec==0.7.3\n",
            "future==0.16.0\n",
            "gast==0.3.3\n",
            "GDAL==2.2.2\n",
            "gdown==3.6.4\n",
            "gensim==3.6.0\n",
            "geographiclib==1.50\n",
            "geopy==1.17.0\n",
            "gin-config==0.3.0\n",
            "glob2==0.7\n",
            "google==2.0.3\n",
            "google-api-core==1.16.0\n",
            "google-api-python-client==1.7.12\n",
            "google-auth==1.7.2\n",
            "google-auth-httplib2==0.0.3\n",
            "google-auth-oauthlib==0.4.1\n",
            "google-cloud-bigquery==1.21.0\n",
            "google-cloud-core==1.0.3\n",
            "google-cloud-datastore==1.8.0\n",
            "google-cloud-firestore==1.6.2\n",
            "google-cloud-language==1.2.0\n",
            "google-cloud-storage==1.18.1\n",
            "google-cloud-translate==1.5.0\n",
            "google-colab==1.0.0\n",
            "google-pasta==0.2.0\n",
            "google-resumable-media==0.4.1\n",
            "googleapis-common-protos==1.51.0\n",
            "googledrivedownloader==0.4\n",
            "graphviz==0.10.1\n",
            "grpcio==1.28.1\n",
            "gspread==3.0.1\n",
            "gspread-dataframe==3.0.6\n",
            "gym==0.17.1\n",
            "h5py==2.10.0\n",
            "HeapDict==1.0.1\n",
            "holidays==0.9.12\n",
            "html5lib==1.0.1\n",
            "httpimport==0.5.18\n",
            "httplib2==0.17.3\n",
            "httplib2shim==0.0.3\n",
            "humanize==0.5.1\n",
            "hyperopt==0.1.2\n",
            "ideep4py==2.0.0.post3\n",
            "idna==2.9\n",
            "image==1.5.31\n",
            "imageio==2.4.1\n",
            "imagesize==1.2.0\n",
            "imbalanced-learn==0.4.3\n",
            "imblearn==0.0\n",
            "imgaug==0.2.9\n",
            "importlib-metadata==1.6.0\n",
            "imutils==0.5.3\n",
            "inflect==2.1.0\n",
            "intel-openmp==2020.0.133\n",
            "intervaltree==2.1.0\n",
            "ipykernel==4.10.1\n",
            "ipython==5.5.0\n",
            "ipython-genutils==0.2.0\n",
            "ipython-sql==0.3.9\n",
            "ipywidgets==7.5.1\n",
            "itsdangerous==1.1.0\n",
            "jax==0.1.64\n",
            "jaxlib==0.1.45\n",
            "jdcal==1.4.1\n",
            "jedi==0.17.0\n",
            "jieba==0.42.1\n",
            "Jinja2==2.11.2\n",
            "jmespath==0.9.5\n",
            "joblib==0.14.1\n",
            "jpeg4py==0.1.4\n",
            "jsonschema==2.6.0\n",
            "jupyter==1.0.0\n",
            "jupyter-client==5.3.4\n",
            "jupyter-console==5.2.0\n",
            "jupyter-core==4.6.3\n",
            "kaggle==1.5.6\n",
            "kapre==0.1.3.1\n",
            "Keras==2.3.1\n",
            "Keras-Applications==1.0.8\n",
            "Keras-Preprocessing==1.1.0\n",
            "keras-vis==0.4.1\n",
            "kiwisolver==1.2.0\n",
            "knnimpute==0.1.0\n",
            "librosa==0.6.3\n",
            "lightgbm==2.2.3\n",
            "llvmlite==0.31.0\n",
            "lmdb==0.98\n",
            "lucid==0.3.8\n",
            "LunarCalendar==0.0.9\n",
            "lxml==4.2.6\n",
            "Markdown==3.2.1\n",
            "MarkupSafe==1.1.1\n",
            "matplotlib==3.2.1\n",
            "matplotlib-venn==0.11.5\n",
            "missingno==0.4.2\n",
            "mistune==0.8.4\n",
            "mizani==0.6.0\n",
            "mkl==2019.0\n",
            "mlxtend==0.14.0\n",
            "more-itertools==8.2.0\n",
            "moviepy==0.2.3.5\n",
            "mpmath==1.1.0\n",
            "msgpack==1.0.0\n",
            "multiprocess==0.70.9\n",
            "multitasking==0.0.9\n",
            "murmurhash==1.0.2\n",
            "music21==5.5.0\n",
            "natsort==5.5.0\n",
            "nbconvert==5.6.1\n",
            "nbformat==5.0.6\n",
            "networkx==2.4\n",
            "nibabel==3.0.2\n",
            "nltk==3.2.5\n",
            "notebook==5.2.2\n",
            "np-utils==0.5.12.1\n",
            "numba==0.48.0\n",
            "numexpr==2.7.1\n",
            "numpy==1.18.4\n",
            "nvidia-ml-py3==7.352.0\n",
            "oauth2client==4.1.3\n",
            "oauthlib==3.1.0\n",
            "okgrade==0.4.3\n",
            "opencv-contrib-python==4.1.2.30\n",
            "opencv-python==4.1.2.30\n",
            "openpyxl==2.5.9\n",
            "opt-einsum==3.2.1\n",
            "osqp==0.6.1\n",
            "packaging==20.3\n",
            "palettable==3.3.0\n",
            "pandas==1.0.3\n",
            "pandas-datareader==0.8.1\n",
            "pandas-gbq==0.11.0\n",
            "pandas-profiling==1.4.1\n",
            "pandocfilters==1.4.2\n",
            "parso==0.7.0\n",
            "pathlib==1.0.1\n",
            "patsy==0.5.1\n",
            "pexpect==4.8.0\n",
            "pickleshare==0.7.5\n",
            "Pillow==7.0.0\n",
            "pip-tools==4.5.1\n",
            "plac==1.1.3\n",
            "plotly==4.4.1\n",
            "plotnine==0.6.0\n",
            "pluggy==0.7.1\n",
            "portpicker==1.3.1\n",
            "prefetch-generator==1.0.1\n",
            "preshed==3.0.2\n",
            "prettytable==0.7.2\n",
            "progressbar2==3.38.0\n",
            "prometheus-client==0.7.1\n",
            "promise==2.3\n",
            "prompt-toolkit==1.0.18\n",
            "protobuf==3.10.0\n",
            "psutil==5.4.8\n",
            "psycopg2==2.7.6.1\n",
            "ptvsd==5.0.0a12\n",
            "ptyprocess==0.6.0\n",
            "py==1.8.1\n",
            "pyarrow==0.14.1\n",
            "pyasn1==0.4.8\n",
            "pyasn1-modules==0.2.8\n",
            "pycocotools==2.0.0\n",
            "pycparser==2.20\n",
            "pydata-google-auth==1.1.0\n",
            "pydot==1.3.0\n",
            "pydot-ng==2.0.0\n",
            "pydotplus==2.0.2\n",
            "PyDrive==1.3.1\n",
            "pyemd==0.5.1\n",
            "pyglet==1.5.0\n",
            "Pygments==2.1.3\n",
            "pygobject==3.26.1\n",
            "pymc3==3.7\n",
            "PyMeeus==0.3.7\n",
            "pymongo==3.10.1\n",
            "pymystem3==0.2.0\n",
            "PyOpenGL==3.1.5\n",
            "pyparsing==2.4.7\n",
            "pyrsistent==0.16.0\n",
            "pysndfile==1.3.8\n",
            "PySocks==1.7.1\n",
            "pystan==2.19.1.1\n",
            "pytest==3.6.4\n",
            "python-apt==1.6.5+ubuntu0.2\n",
            "python-chess==0.23.11\n",
            "python-dateutil==2.8.1\n",
            "python-louvain==0.14\n",
            "python-slugify==4.0.0\n",
            "python-utils==2.4.0\n",
            "pytz==2018.9\n",
            "PyWavelets==1.1.1\n",
            "PyYAML==3.13\n",
            "pyzmq==19.0.0\n",
            "qtconsole==4.7.3\n",
            "QtPy==1.9.0\n",
            "regex==2019.12.20\n",
            "requests==2.23.0\n",
            "requests-oauthlib==1.3.0\n",
            "resampy==0.2.2\n",
            "retrying==1.3.3\n",
            "rpy2==3.2.7\n",
            "rsa==4.0\n",
            "s3fs==0.4.2\n",
            "s3transfer==0.3.3\n",
            "scikit-image==0.16.2\n",
            "scikit-learn==0.22.2.post1\n",
            "scipy==1.4.1\n",
            "screen-resolution-extra==0.0.0\n",
            "scs==2.1.2\n",
            "seaborn==0.10.1\n",
            "Send2Trash==1.5.0\n",
            "setuptools-git==1.2\n",
            "Shapely==1.7.0\n",
            "simplegeneric==0.8.1\n",
            "six==1.12.0\n",
            "sklearn==0.0\n",
            "sklearn-pandas==1.8.0\n",
            "smart-open==2.0.0\n",
            "snowballstemmer==2.0.0\n",
            "sortedcontainers==2.1.0\n",
            "spacy==2.2.4\n",
            "Sphinx==1.8.5\n",
            "sphinxcontrib-websupport==1.2.2\n",
            "SQLAlchemy==1.3.16\n",
            "sqlparse==0.3.1\n",
            "srsly==1.0.2\n",
            "statsmodels==0.10.2\n",
            "sympy==1.1.1\n",
            "tables==3.4.4\n",
            "tabulate==0.8.7\n",
            "tbb==2020.0.133\n",
            "tblib==1.6.0\n",
            "tensorboard==2.2.1\n",
            "tensorboard-plugin-wit==1.6.0.post3\n",
            "tensorboardcolab==0.0.22\n",
            "tensorflow==2.2.0rc4\n",
            "tensorflow-addons==0.8.3\n",
            "tensorflow-datasets==2.1.0\n",
            "tensorflow-estimator==2.2.0\n",
            "tensorflow-gcs-config==2.1.8\n",
            "tensorflow-hub==0.8.0\n",
            "tensorflow-metadata==0.21.2\n",
            "tensorflow-privacy==0.2.2\n",
            "tensorflow-probability==0.10.0rc0\n",
            "termcolor==1.1.0\n",
            "terminado==0.8.3\n",
            "testpath==0.4.4\n",
            "text-unidecode==1.3\n",
            "textblob==0.15.3\n",
            "textgenrnn==1.4.1\n",
            "Theano==1.0.4\n",
            "thinc==7.4.0\n",
            "toolz==0.10.0\n",
            "torch==1.5.0+cu101\n",
            "torchsummary==1.5.1\n",
            "torchtext==0.3.1\n",
            "torchvision==0.6.0+cu101\n",
            "tornado==4.5.3\n",
            "tqdm==4.41.1\n",
            "traitlets==4.3.3\n",
            "tweepy==3.6.0\n",
            "typeguard==2.7.1\n",
            "typing==3.6.6\n",
            "typing-extensions==3.6.6\n",
            "tzlocal==1.5.1\n",
            "umap-learn==0.4.2\n",
            "uritemplate==3.0.1\n",
            "urllib3==1.24.3\n",
            "vega-datasets==0.8.0\n",
            "wasabi==0.6.0\n",
            "wcwidth==0.1.9\n",
            "webencodings==0.5.1\n",
            "Werkzeug==1.0.1\n",
            "widgetsnbextension==3.5.1\n",
            "wordcloud==1.5.0\n",
            "wrapt==1.12.1\n",
            "xarray==0.15.1\n",
            "xgboost==0.90\n",
            "xkit==0.0.0\n",
            "xlrd==1.1.0\n",
            "xlwt==1.3.0\n",
            "yellowbrick==0.9.1\n",
            "zict==2.0.0\n",
            "zipp==3.1.0\n"
          ],
          "name": "stdout"
        }
      ]
    }
  ]
}